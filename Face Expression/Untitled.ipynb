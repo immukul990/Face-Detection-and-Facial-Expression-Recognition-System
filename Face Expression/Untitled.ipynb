{
 "cells": [
  {
   "cell_type": "code",
   "execution_count": 1,
   "metadata": {},
   "outputs": [
    {
     "ename": "SyntaxError",
     "evalue": "invalid syntax (<ipython-input-1-6250bc3e39b8>, line 1)",
     "output_type": "error",
     "traceback": [
      "\u001b[1;36m  File \u001b[1;32m\"<ipython-input-1-6250bc3e39b8>\"\u001b[1;36m, line \u001b[1;32m1\u001b[0m\n\u001b[1;33m    pyhon3 main.py\u001b[0m\n\u001b[1;37m              ^\u001b[0m\n\u001b[1;31mSyntaxError\u001b[0m\u001b[1;31m:\u001b[0m invalid syntax\n"
     ]
    }
   ],
   "source": [
    "pyhon3 main.py\n",
    "\n"
   ]
  },
  {
   "cell_type": "code",
   "execution_count": 2,
   "metadata": {},
   "outputs": [
    {
     "ename": "ModuleNotFoundError",
     "evalue": "No module named 'tensorflow'",
     "output_type": "error",
     "traceback": [
      "\u001b[1;31m---------------------------------------------------------------------------\u001b[0m",
      "\u001b[1;31mModuleNotFoundError\u001b[0m                       Traceback (most recent call last)",
      "\u001b[1;32m<ipython-input-2-64156d691fe5>\u001b[0m in \u001b[0;36m<module>\u001b[1;34m\u001b[0m\n\u001b[1;32m----> 1\u001b[1;33m \u001b[1;32mimport\u001b[0m \u001b[0mtensorflow\u001b[0m \u001b[1;32mas\u001b[0m \u001b[0mtf\u001b[0m\u001b[1;33m\u001b[0m\u001b[1;33m\u001b[0m\u001b[0m\n\u001b[0m",
      "\u001b[1;31mModuleNotFoundError\u001b[0m: No module named 'tensorflow'"
     ]
    }
   ],
   "source": [
    "import tensorflow as tf"
   ]
  },
  {
   "cell_type": "code",
   "execution_count": null,
   "metadata": {},
   "outputs": [],
   "source": [
    "from demo import demo\n",
    "from model import train_model, valid_model\n",
    "import tensorflow as tf\n",
    "\n",
    "flags = tf.app.flags\n",
    "flags.DEFINE_string('MODE', 'demo', \n",
    "                    'Set program to run in different mode, include train, valid and demo.')\n",
    "flags.DEFINE_string('checkpoint_dir', './ckpt', \n",
    "                    'Path to model file.')\n",
    "flags.DEFINE_string('train_data', './data/fer2013/fer2013.csv',\n",
    "                    'Path to training data.')\n",
    "flags.DEFINE_string('valid_data', './valid_sets/',\n",
    "                    'Path to training data.')\n",
    "flags.DEFINE_boolean('show_box', False, \n",
    "                    'If true, the results will show detection box')\n",
    "FLAGS = flags.FLAGS\n",
    "\n",
    "def main():\n",
    "  assert FLAGS.MODE in ('train', 'valid', 'demo')\n",
    "  \n",
    "  if FLAGS.MODE == 'demo':\n",
    "    demo(FLAGS.checkpoint_dir, FLAGS.show_box)\n",
    "  elif FLAGS.MODE == 'train':\n",
    "    train_model(FLAGS.train_data)\n",
    "  elif FLAGS.MODE == 'valid':\n",
    "    valid_model(FLAGS.checkpoint_dir, FLAGS.valid_data)\n",
    "\n",
    "if __name__ == '__main__':\n",
    "  main()\n"
   ]
  }
 ],
 "metadata": {
  "kernelspec": {
   "display_name": "Python 3.7.1 64-bit ('ASHUTOSH': virtualenv)",
   "language": "python",
   "name": "python37164bitashutoshvirtualenv35b1f8f65fbc4fbca78ce81831711189"
  },
  "language_info": {
   "codemirror_mode": {
    "name": "ipython",
    "version": 3
   },
   "file_extension": ".py",
   "mimetype": "text/x-python",
   "name": "python",
   "nbconvert_exporter": "python",
   "pygments_lexer": "ipython3",
   "version": "3.7.1"
  }
 },
 "nbformat": 4,
 "nbformat_minor": 2
}
